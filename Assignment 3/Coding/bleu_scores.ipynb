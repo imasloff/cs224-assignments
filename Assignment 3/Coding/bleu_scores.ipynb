{
 "cells": [
  {
   "cell_type": "code",
   "execution_count": 1,
   "id": "505a6fb8",
   "metadata": {},
   "outputs": [],
   "source": [
    "from nltk.translate.bleu_score import sentence_bleu\n",
    "from collections import Counter\n",
    "import math\n",
    "\n",
    "def ngram_counts(tokens, n):\n",
    "    \"\"\"Return a Counter of n-grams for the given token list.\"\"\"\n",
    "    return Counter(tuple(tokens[i:i+n]) for i in range(len(tokens)-n+1))\n",
    "\n",
    "def modified_precision(candidate, references, n):\n",
    "    \"\"\"\n",
    "    Compute modified n-gram precision p_n.\n",
    "    candidate: list of tokens for the candidate translation\n",
    "    references: list of lists of tokens for each reference translation\n",
    "    n: order of n-gram\n",
    "    \"\"\"\n",
    "    # Count n-grams in candidate\n",
    "    cand_counts = ngram_counts(candidate, n)\n",
    "    if not cand_counts:\n",
    "        return 0.0\n",
    "\n",
    "    # Count clipped matches\n",
    "    max_ref_counts = Counter()\n",
    "    for ref in references:\n",
    "        ref_counts = ngram_counts(ref, n)\n",
    "        for ng in cand_counts:\n",
    "            max_ref_counts[ng] = max(max_ref_counts[ng], ref_counts.get(ng, 0))\n",
    "\n",
    "    clipped_count = sum(min(cand_counts[ng], max_ref_counts[ng]) for ng in cand_counts)\n",
    "    total_count   = sum(cand_counts.values())\n",
    "    return clipped_count / total_count\n",
    "\n",
    "def brevity_penalty(candidate, references):\n",
    "    \"\"\"\n",
    "    Compute brevity penalty BP.\n",
    "    candidate: list of tokens for candidate\n",
    "    references: list of lists of tokens for each reference\n",
    "    \"\"\"\n",
    "    c = len(candidate)\n",
    "    print(f\"len(c) = {c}\")\n",
    "    # find reference length closest to c (break ties by choosing shorter)\n",
    "    ref_lens = [len(ref) for ref in references]\n",
    "    print(f\"len(refs) = {ref_lens}\")\n",
    "    \n",
    "    closest = min(ref_lens, key=lambda r: (abs(r-c), r))\n",
    "    if c >= closest:\n",
    "        return 1.0\n",
    "    else:\n",
    "        return math.exp(1 - closest / c)\n",
    "\n",
    "def compute_bleu(candidate, references, weights):\n",
    "    \"\"\"\n",
    "    Compute BLEU score for a single sentence.\n",
    "    candidate: list of tokens for candidate translation\n",
    "    references: list of lists of tokens for each reference translation\n",
    "    weights: list of lambda_n weights (e.g. [0.5, 0.5, 0, 0])\n",
    "    \"\"\"\n",
    "    # 1. modified precisions for each n\n",
    "    p_ns = [modified_precision(candidate, references, n+1) \n",
    "            for n, _ in enumerate(weights)]\n",
    "    print(\"\\n\".join(f\"p_{n+1} = {p_n}\" for n, p_n in enumerate(p_ns)))\n",
    "\n",
    "    # 2. brevity penalty\n",
    "    bp = brevity_penalty(candidate, references)\n",
    "    print(f\"BP = {bp}\")\n",
    "\n",
    "    # 3. geometric mean of precisions\n",
    "    #    if any p_n is zero, log(p_n) -> -inf, BLEU -> 0\n",
    "    log_p_ns = []\n",
    "    for p, w in zip(p_ns, weights):\n",
    "        if w == 0:\n",
    "            continue\n",
    "        if p == 0:\n",
    "            return 0.0    # any required p_n = 0 → BLEU=0\n",
    "        log_p_ns.append(w * math.log(p))\n",
    "    geo_mean = math.exp(sum(log_p_ns))\n",
    "\n",
    "    # 4. final BLEU\n",
    "    return bp * geo_mean"
   ]
  },
  {
   "cell_type": "code",
   "execution_count": 2,
   "id": "d8db3c06",
   "metadata": {},
   "outputs": [
    {
     "name": "stdout",
     "output_type": "stream",
     "text": [
      "p_1 = 0.4444444444444444\n",
      "p_2 = 0.375\n",
      "p_3 = 0.2857142857142857\n",
      "p_4 = 0.16666666666666666\n",
      "len(c) = 9\n",
      "len(refs) = [11, 6]\n",
      "BP = 0.800737402916808\n",
      "p_1 = 1.0\n",
      "p_2 = 0.6\n",
      "p_3 = 0.25\n",
      "p_4 = 0.0\n",
      "len(c) = 6\n",
      "len(refs) = [11, 6]\n",
      "BP = 1.0\n",
      "BLUE using my implementation:\n",
      "c1 BLEU = 0.327\n",
      "c2 BLEU = 0.775\n"
     ]
    }
   ],
   "source": [
    "candidate_1 = \"there is a need for adequate and predictable resources\".split()\n",
    "candidate_2 = \"resources be sufficient and predictable to\".split()\n",
    "references = [\n",
    "    \"resources have to be sufficient and they have to be predictable\".split(),\n",
    "    \"adequate and predictable resources are required\".split()\n",
    "]\n",
    "weights = [0.5, 0.5, 0.0, 0.0]  # only 1- and 2-grams\n",
    "c1_bleu_score = compute_bleu(candidate_1, references, weights)\n",
    "c2_bleu_score = compute_bleu(candidate_2, references, weights)\n",
    "\n",
    "print(\"BLUE using my implementation:\")\n",
    "print(f\"c1 BLEU = {c1_bleu_score:.3f}\\nc2 BLEU = {c2_bleu_score:.3f}\")"
   ]
  },
  {
   "cell_type": "code",
   "execution_count": 3,
   "id": "87212bd9",
   "metadata": {},
   "outputs": [
    {
     "name": "stdout",
     "output_type": "stream",
     "text": [
      "BLEU using NLTK:\n",
      "c1 BLEU = 0.327\n",
      "c2 BLEU = 0.775\n"
     ]
    },
    {
     "name": "stderr",
     "output_type": "stream",
     "text": [
      "/opt/homebrew/anaconda3/envs/cs224n-cpu/lib/python3.10/site-packages/nltk/translate/bleu_score.py:577: UserWarning: \n",
      "The hypothesis contains 0 counts of 4-gram overlaps.\n",
      "Therefore the BLEU score evaluates to 0, independently of\n",
      "how many N-gram overlaps of lower order it contains.\n",
      "Consider using lower n-gram order or use SmoothingFunction()\n",
      "  warnings.warn(_msg)\n"
     ]
    }
   ],
   "source": [
    "print(\"BLEU using NLTK:\")\n",
    "print(f\"c1 BLEU = {sentence_bleu(references, candidate_1, weights):.3f}\")\n",
    "print(f\"c2 BLEU = {sentence_bleu(references, candidate_2, weights):.3f}\")"
   ]
  },
  {
   "cell_type": "code",
   "execution_count": 5,
   "id": "51014474",
   "metadata": {},
   "outputs": [
    {
     "name": "stdout",
     "output_type": "stream",
     "text": [
      "BLEU with respect to reference 2 only:\n",
      "\n",
      "\n",
      "My implementation:\n",
      "p_1 = 0.4444444444444444\n",
      "p_2 = 0.375\n",
      "p_3 = 0.2857142857142857\n",
      "p_4 = 0.16666666666666666\n",
      "len(c) = 9\n",
      "len(refs) = [6]\n",
      "BP = 1.0\n",
      "c1 BLEU = 0.408\n",
      "p_1 = 0.5\n",
      "p_2 = 0.2\n",
      "p_3 = 0.0\n",
      "p_4 = 0.0\n",
      "len(c) = 6\n",
      "len(refs) = [6]\n",
      "BP = 1.0\n",
      "c2 BLEU = 0.316\n",
      "\n",
      "\n",
      "NLTK:\n",
      "c1 BLEU = 0.408\n",
      "c2 BLEU = 0.316\n"
     ]
    }
   ],
   "source": [
    "print(\"BLEU with respect to reference 2 only:\")\n",
    "\n",
    "print(\"\\n\\nMy implementation:\")\n",
    "print(f\"c1 BLEU = {compute_bleu(candidate_1, [references[1]], weights):.3f}\")\n",
    "print(f\"c2 BLEU = {compute_bleu(candidate_2, [references[1]], weights):.3f}\")\n",
    "\n",
    "print(\"\\n\\nNLTK:\")\n",
    "print(f\"c1 BLEU = {sentence_bleu([references[1]], candidate_1, weights):.3f}\")\n",
    "print(f\"c2 BLEU = {sentence_bleu([references[1]], candidate_2, weights):.3f}\")"
   ]
  },
  {
   "cell_type": "code",
   "execution_count": null,
   "id": "c7dfefbe",
   "metadata": {},
   "outputs": [],
   "source": []
  }
 ],
 "metadata": {
  "kernelspec": {
   "display_name": "cs224n-cpu",
   "language": "python",
   "name": "python3"
  },
  "language_info": {
   "codemirror_mode": {
    "name": "ipython",
    "version": 3
   },
   "file_extension": ".py",
   "mimetype": "text/x-python",
   "name": "python",
   "nbconvert_exporter": "python",
   "pygments_lexer": "ipython3",
   "version": "3.10.16"
  }
 },
 "nbformat": 4,
 "nbformat_minor": 5
}
